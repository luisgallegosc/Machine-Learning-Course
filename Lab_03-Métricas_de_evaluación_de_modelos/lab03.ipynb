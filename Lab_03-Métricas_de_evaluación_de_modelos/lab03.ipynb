{
 "cells": [
  {
   "cell_type": "code",
   "execution_count": null,
   "metadata": {},
   "outputs": [],
   "source": [
    "import numpy as np\n",
    "import pandas as pd\n",
    "import matplotlib.pyplot as plt\n",
    "# Módulo de separación de datos\n",
    "from sklearn.model_selection import train_test_split\n",
    "# Módulo de Matriz de confusión\n",
    "from sklearn.metrics import confusion_matrix\n",
    "from sklearn.neural_network import MLPClassifier\n",
    "# Módulo de Reporte de métricas\n",
    "from sklearn.metrics import classification_report\n",
    "# Métricas\n",
    "from sklearn import metrics\n",
    "# Curva ROC\n",
    "from sklearn.metrics import RocCurveDisplay\n",
    "# muestra el gráfico en el cuaderno (no utiliza una ventana)\n",
    "%matplotlib inline\n"
   ]
  },
  {
   "cell_type": "code",
   "execution_count": null,
   "metadata": {},
   "outputs": [],
   "source": [
    "# El objetivo del dataset, es identificación de sexo en en base a las medidas del resto\n",
    "# sexo = f(peso, altura, pie, hombros, brazos, caderas, ojos)\n",
    "df = pd.read_csv(\"ds_persona2_ML.csv\")\n",
    "df.head()"
   ]
  },
  {
   "cell_type": "code",
   "execution_count": null,
   "metadata": {},
   "outputs": [],
   "source": [
    "\n",
    "# diagrama de dispersión en 3D: edad vs. fracción de eyección vs. sodio sérico\n",
    "import plotly.express as px\n",
    "fig = px.scatter_3d(df, x='Peso', y='Altura',\n",
    " z='Brazos', color='Sexo')\n",
    "fig.update_traces(marker_size = 3)\n",
    "fig.show()\n"
   ]
  },
  {
   "cell_type": "code",
   "execution_count": null,
   "metadata": {},
   "outputs": [],
   "source": [
    "X = df.drop(['Sexo'], axis=1)\n",
    "y = df['Sexo']\n",
    "X_train, X_test, y_train, y_test = train_test_split(X, y, train_size=0.75, random_state="
   ]
  }
 ],
 "metadata": {
  "language_info": {
   "name": "python"
  }
 },
 "nbformat": 4,
 "nbformat_minor": 2
}
